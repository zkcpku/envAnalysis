{
 "cells": [
  {
   "cell_type": "code",
   "execution_count": 76,
   "metadata": {},
   "outputs": [],
   "source": [
    "import os\n",
    "import json\n",
    "import sys\n",
    "from autocomplete import Autocomplete, PY_LANGUAGE, Parser\n",
    "import argparse\n",
    "from tqdm import tqdm\n",
    "from extract_api_doc import *\n",
    "from extract_csn_python_api import count_jsonl, read_jsonl, write_jsonl, write_jsonl_append\n",
    "import functools\n",
    "\n",
    "inp_path = \"/Users/zkcpku/Documents/seke/mywork/dependency/cloudbrain/dataset/CSN_valid_np_pd.only_search.jsonl\"\n",
    "\n",
    "parser = Parser()\n",
    "parser.set_language(PY_LANGUAGE)\n"
   ]
  },
  {
   "cell_type": "code",
   "execution_count": 77,
   "metadata": {},
   "outputs": [],
   "source": [
    "def get_apiend_pos(APISearch_pos, code_string):\n",
    "    APISearch_end_pos = APISearch_pos[2]\n",
    "    apiend_pos = code_string[APISearch_end_pos:].find(\"*/\")\n",
    "    if apiend_pos == -1:\n",
    "        assert False\n",
    "        return None\n",
    "    apiend_pos += APISearch_end_pos\n",
    "    return apiend_pos"
   ]
  },
  {
   "cell_type": "code",
   "execution_count": 78,
   "metadata": {},
   "outputs": [],
   "source": [
    "def string_find_all(code_string, s):\n",
    "    pos = 0\n",
    "    pos_list = []\n",
    "    while True:\n",
    "        pos = code_string.find(s, pos)\n",
    "        if pos == -1:\n",
    "            break\n",
    "        pos_list.append(pos)\n",
    "        pos += len(s)\n",
    "    return pos_list\n",
    "def add_apisearch_rst(code_string):\n",
    "    # code_string = code_string.replace(\"*/\",\"*/ \")\n",
    "    code = bytes(code_string, \"utf-8\")\n",
    "    tree = parser.parse(code)\n",
    "    completer = Autocomplete(tree, code, len(code))\n",
    "    api_calls = completer.extract_used_api()\n",
    "    api_end_pos = string_find_all(code_string, \"*/\")\n",
    "    api_calls = sorted(api_calls, key=lambda x:x[2])\n",
    "\n",
    "    def get_close_api_for_each(api_end_poses, extract_apies):\n",
    "        close_api_for_each = []\n",
    "        for i in range(len(api_end_poses)):\n",
    "            this_close_api = \"None\"\n",
    "            for j in range(len(extract_apies)):\n",
    "                if api_end_poses[i] < extract_apies[j][2]:\n",
    "                    this_close_api = extract_apies[j][0]\n",
    "                    break\n",
    "            close_api_for_each.append(this_close_api)\n",
    "        return close_api_for_each\n",
    "    def clean_close_api(origin_api):\n",
    "        # if \"(\" in origin_api:\n",
    "        #     origin_api = origin_api.split(\"(\")[0]\n",
    "        return origin_api\n",
    "    # print(api_calls)\n",
    "    SearchRst_apis = get_close_api_for_each(api_end_pos, api_calls)\n",
    "    SearchRst_apis = [clean_close_api(e) for e in SearchRst_apis]\n",
    "    \n",
    "    def add_into_code_string(code_string, api_end_pos, SearchRst_apis):\n",
    "        split_code_string_pos = api_end_pos\n",
    "        split_code_string_pos.append(len(code_string))\n",
    "        split_code_string = []\n",
    "        for i in range(len(split_code_string_pos)):\n",
    "            if i == 0:\n",
    "                split_code_string.append(code_string[:split_code_string_pos[i]])\n",
    "            else:\n",
    "                split_code_string.append(code_string[split_code_string_pos[i-1]:split_code_string_pos[i]])\n",
    "        new_code_string = \"\"\n",
    "        for i in range(len(split_code_string)):\n",
    "            new_code_string += split_code_string[i]\n",
    "            if i < len(split_code_string) - 1:\n",
    "                new_code_string += f\"->{SearchRst_apis[i]}\"\n",
    "        return new_code_string\n",
    "    return add_into_code_string(code_string, api_end_pos, SearchRst_apis)"
   ]
  },
  {
   "cell_type": "code",
   "execution_count": 79,
   "metadata": {},
   "outputs": [],
   "source": [
    "inp_data = read_jsonl(inp_path)\n",
    "output_path = \"/Users/zkcpku/Documents/seke/mywork/dependency/cloudbrain/dataset/CSN_valid_np_pd.with_rst.jsonl\"\n",
    "for each_obj in inp_data:\n",
    "    each_obj[\"without_rst\"] = each_obj['func_code_string']\n",
    "    each_obj['func_code_string'] = add_apisearch_rst(each_obj['func_code_string'])\n",
    "    write_jsonl_append(output_path, each_obj)"
   ]
  },
  {
   "cell_type": "code",
   "execution_count": null,
   "metadata": {},
   "outputs": [],
   "source": []
  }
 ],
 "metadata": {
  "kernelspec": {
   "display_name": "huggingface",
   "language": "python",
   "name": "python3"
  },
  "language_info": {
   "codemirror_mode": {
    "name": "ipython",
    "version": 3
   },
   "file_extension": ".py",
   "mimetype": "text/x-python",
   "name": "python",
   "nbconvert_exporter": "python",
   "pygments_lexer": "ipython3",
   "version": "3.6.13"
  },
  "orig_nbformat": 4
 },
 "nbformat": 4,
 "nbformat_minor": 2
}
